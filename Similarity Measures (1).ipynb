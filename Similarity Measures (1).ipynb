{
 "cells": [
  {
   "cell_type": "code",
   "execution_count": 1,
   "metadata": {},
   "outputs": [],
   "source": [
    "import sklearn\n",
    "import gensim\n",
    "import csv \n",
    "import nltk\n",
    "from nltk import word_tokenize\n",
    "from nltk.corpus import stopwords\n",
    "from string import punctuation\n",
    "import re"
   ]
  },
  {
   "cell_type": "code",
   "execution_count": 2,
   "metadata": {},
   "outputs": [
    {
     "name": "stdout",
     "output_type": "stream",
     "text": [
      "young debut cut short by ginepri fifteen-year-old donald young s first appearance in an atp tennis tournament proved brief as the teenager went out in round one of the san jose open.  young shot to the top of the junior world rankings when he won the boys  singles at january s australian open. but the wildcard entry was dispatched by fellow american robby ginepri in straight sets  6-2 6-2  in california. despite that he was happy with his tour debut.  it was fun. i had my chances  but they didn t come through   he said. young  who beat two players ranked in the top 200 when he was just 14  was only 2-1 down in the first set before losing 10 of the next 13 games. and ginepri - six years older than the youngest player to ever win a junior slam and top the global standings - admitted he was impressed.   he s very talented   said ginepri.  he s got a long future ahead of him.  being left-handed  he was very quick around the court.  his serve is a little deceptive. he came into the net and volleyed better than i thought.  earlier  south korean hyung-taik lee defeated american jan-michael gambill 6-3 7-6 (7-4). american kevin kim defeated jan hernych of the czech republic 7-5 6-3  canadian qualifier frank dancevic downed american jeff morrison 4-6 7-6 (7-3) 6-0  and denmark s kenneth carlsen beat irakli labadze of the republic of georgia 6-7 (4-7) 6-2 6-3. top seed andy roddick launches his defence of the title on wednesday against qualifier paul goldstein. second seed andre agassi opens his campaign on tuesday against wildcard bobby reynolds  last year s us collegiate champion. agassi has won the san jose five times  but his run of three straight titles ended last year when he fell to mardy fish in the semi-finals. fish went on to lose to roddick in the final.\n"
     ]
    }
   ],
   "source": [
    "l1 = []\n",
    "l2 = []\n",
    "with open('Text_Similarity_Dataset.csv', 'r') as file:\n",
    "    data = csv.reader(file)\n",
    "    for row in data:\n",
    "        if row[0] is not 'Unique_ID':\n",
    "            l1.append(row[1])\n",
    "            l2.append(row[2])\n",
    "print(l1[3])"
   ]
  },
  {
   "cell_type": "code",
   "execution_count": 3,
   "metadata": {},
   "outputs": [
    {
     "name": "stdout",
     "output_type": "stream",
     "text": [
      "4024\n"
     ]
    }
   ],
   "source": [
    "def preprocess(text):\n",
    "    data =  ''.join(c for c in text if c not in punctuation) \n",
    "    all_tokens = re.sub('[0-9]+', '', data)\n",
    "    all_words = nltk.word_tokenize(all_tokens)\n",
    "    lst_set = list(set(all_words))\n",
    "    ls = []\n",
    "    for i in lst_set:\n",
    "        if i not in stopwords.words('english') :\n",
    "            ls.append(i) \n",
    "    return ls\n",
    "print(len(l1))"
   ]
  },
  {
   "cell_type": "code",
   "execution_count": null,
   "metadata": {},
   "outputs": [],
   "source": [
    "lnum =0\n",
    "rem1 = []\n",
    "\n",
    "for i in range(len(l1)) :\n",
    "    rem1.append(list(set(preprocess(l1[i]))))\n",
    "    \n",
    "    lnum = lnum + len(rem1[i])\n",
    "print(lnum)\n"
   ]
  },
  {
   "cell_type": "code",
   "execution_count": null,
   "metadata": {},
   "outputs": [],
   "source": [
    "print(len(l2))"
   ]
  },
  {
   "cell_type": "code",
   "execution_count": null,
   "metadata": {},
   "outputs": [],
   "source": [
    "lnum2 =0\n",
    "rem2 = []\n",
    "for i in range(len(l2)) :\n",
    "    rem2.append(list(set(preprocess(l2[i]))))\n",
    "    lnum2 = lnum2 + len(rem2[i])\n",
    "    \n",
    "print(lnum2)"
   ]
  },
  {
   "cell_type": "code",
   "execution_count": null,
   "metadata": {
    "scrolled": true
   },
   "outputs": [],
   "source": [
    "from nltk.stem import WordNetLemmatizer,PorterStemmer\n",
    "lemmatizer = WordNetLemmatizer()\n",
    "stemmer = PorterStemmer() \n",
    "for i in range(1,len(rem1)) :\n",
    "    rem1[i]=[lemmatizer.lemmatize(w) for w in rem1[i]]\n",
    "# print(rem1[3000])\n",
    "# print(rem1[3][0])"
   ]
  },
  {
   "cell_type": "code",
   "execution_count": null,
   "metadata": {},
   "outputs": [],
   "source": [
    "print(len(rem1),len(rem2))"
   ]
  },
  {
   "cell_type": "code",
   "execution_count": null,
   "metadata": {},
   "outputs": [],
   "source": [
    "st = {''} \n",
    "for i in range(1,len(rem1)) :\n",
    "    for j in rem1[i] :\n",
    "        st.add(j)\n",
    "    for k in rem2[i] :\n",
    "        st.add(k)\n",
    "print(len(st))"
   ]
  },
  {
   "cell_type": "code",
   "execution_count": null,
   "metadata": {},
   "outputs": [],
   "source": [
    "lst = list(st) \n",
    "# print(len(lst))\n",
    "# print(lst)"
   ]
  },
  {
   "cell_type": "code",
   "execution_count": null,
   "metadata": {},
   "outputs": [],
   "source": [
    "import numpy as np \n",
    "import flair\n",
    "from flair.embeddings import WordEmbeddings\n",
    "from flair.embeddings import TransformerWordEmbeddings\n",
    "from flair.data import Sentence\n",
    "embeddin = WordEmbeddings('glove')\n",
    "sentence = Sentence(lst)\n"
   ]
  },
  {
   "cell_type": "code",
   "execution_count": null,
   "metadata": {},
   "outputs": [],
   "source": [
    "z = np.array(sentence[0].embedding)\n",
    "# print(sentence[0].embedding.size())\n",
    "# print(sentence[1].embedding)\n",
    "# print(len(z))\n",
    "# print(len(np.zeros(100)))"
   ]
  },
  {
   "cell_type": "code",
   "execution_count": null,
   "metadata": {},
   "outputs": [],
   "source": [
    "from sklearn.metrics.pairwise import cosine_similarity\n",
    "import torch\n",
    "smlr_w2v = []\n",
    "for i in range(len(rem1)) :\n",
    "    sum_vec1 = torch.zeros([0])\n",
    "    for word1 in rem1[i] :\n",
    "#         print(word1)\n",
    "        indx1 = lst.index(word1)\n",
    "        vec1 = sentence[indx1].embedding\n",
    "        sum_vec1 = np.add(sum_vec1 ,vec1)\n",
    "    sum_vec1 /= (100*2)\n",
    "    sum_vec2 = torch.zeros(([0]))\n",
    "    for word2 in rem2[i] :\n",
    "        indx2 = lst.index(word2) \n",
    "        vec2 = sentence[indx2].embedding\n",
    "        sum_vec2 =np.add( sum_vec2 , vec2 )\n",
    "    sum_vec2 /= (100*2) \n",
    "return sum_vec1\n",
    "    #smlr_w2v.append(cosine_similarity([sum_vec1],[sum_vec2]))"
   ]
  },
  {
   "cell_type": "code",
   "execution_count": null,
   "metadata": {},
   "outputs": [],
   "source": []
  },
  {
   "cell_type": "code",
   "execution_count": null,
   "metadata": {},
   "outputs": [],
   "source": []
  }
 ],
 "metadata": {
  "kernelspec": {
   "display_name": "Python 3",
   "language": "python",
   "name": "python3"
  },
  "language_info": {
   "codemirror_mode": {
    "name": "ipython",
    "version": 3
   },
   "file_extension": ".py",
   "mimetype": "text/x-python",
   "name": "python",
   "nbconvert_exporter": "python",
   "pygments_lexer": "ipython3",
   "version": "3.7.4"
  }
 },
 "nbformat": 4,
 "nbformat_minor": 2
}
